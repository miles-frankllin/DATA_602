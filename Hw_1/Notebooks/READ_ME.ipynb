{
 "cells": [
  {
   "cell_type": "markdown",
   "metadata": {},
   "source": [
    "# Overview\n",
    "\n",
    "The goal of this project was to impliment a Linear Regression on a dataset of my choice. I chose to regress alcohol density onto percent alchol content from a pair of data sets from UCIML. While exploring the data, I became interested in how the rated quality effectd this measurement, and how the color of while effect the results. This exploration was not published in the [Technical Notebook](), altough the exploratory graphs can be found in [Additional Notebook](). "
   ]
  },
  {
   "cell_type": "markdown",
   "metadata": {},
   "source": [
    "# Navigation (Need to link notebooks)\n",
    "\n",
    "[Technical Notebok](https://github.com/a-woodbury/A-House-with-a-View#data) -\n",
    "[Additional NoteBook](https://github.com/a-woodbury/A-House-with-a-View#model) -\n",
    "[Data - Kaggle](https://www.kaggle.com/uciml/red-wine-quality-cortez-et-al-2009) - \n",
    "[Data - UCIML](https://archive.ics.uci.edu/ml/machine-learning-databases/wine-quality/)"
   ]
  },
  {
   "cell_type": "markdown",
   "metadata": {},
   "source": [
    "# Requirements\n",
    "<pre>\n",
    "Languages    : Python 3.8.3\n",
    "Tools/IDE    : Anaconda\n",
    "Libraries    : pandas, matplotlib, seaborn, numpy, scipy, sklearn\n",
    "</pre>"
   ]
  },
  {
   "cell_type": "markdown",
   "metadata": {},
   "source": [
    "# Data Sources\n",
    "Note: Initial data was found from [Kaggle](https://www.kaggle.com/uciml/red-wine-quality-cortez-et-al-2009), but was all downloaded from [UCIML](https://archive.ics.uci.edu/ml/machine-learning-databases/wine-quality/) \n",
    "\n",
    "### Red Wine Data\n",
    "<pre>\n",
    "File Name      : winequality-red.csv\n",
    "URL            : https://archive.ics.uci.edu/ml/machine-learning-databases/wine-quality/\n",
    "Limitations    : N/A\n",
    "Concerns       : N/A\n",
    "Dimensions     : 1599 rows × 12 columns\n",
    "Columns        : fixed acidity (float64), volatile acidity (float64), citric acid (float64), residual sugar (float64), chlorides (float64), free sulfur dioxide (float64), total sulfur dioxide (float64), density (float64), pH (float64), sulphates (float64), alcohol (float64), quality (int64)\n",
    "</pre>\n",
    "### White Wine Data\n",
    "<pre>\n",
    "File Name      : winequality-white.csv\n",
    "URL            : https://archive.ics.uci.edu/ml/machine-learning-databases/wine-quality/\n",
    "Limitations    : N/A\n",
    "Concerns       : N/A\n",
    "Dimensions     : 4898 rows × 12 columns\n",
    "Columns        : fixed acidity (float64), volatile acidity (float64), citric acid (float64), residual sugar (float64), chlorides (float64), free sulfur dioxide (float64), total sulfur dioxide (float64), density (float64), pH (float64), sulphates (float64), alcohol (float64), quality (int64)\n",
    "</pre>\n",
    "### Cleaned Data Set\n",
    "<pre>\n",
    "File Name      : winequality-both_cleaned.csv\n",
    "URL            : N/A\n",
    "Limitations    : N/A\n",
    "Concerns       : There are many more instances of white wine than red wine.\n",
    "Dimensions     : 6491 rows × 13 columns\n",
    "Columns        : fixed acidity (float64), volatile acidity (float64), citric acid (float64), residual sugar (float64), chlorides (float64), free sulfur dioxide (float64), total sulfur dioxide (float64), density (float64), pH (float64), sulphates (float64), alcohol (float64), quality (int64), color (object)\n",
    "</pre>"
   ]
  },
  {
   "cell_type": "markdown",
   "metadata": {},
   "source": [
    "# References\n",
    "<pre>\n",
    "URL            : https://github.com/a-woodbury/A-House-with-a-View\n",
    "Author         : Alphonso Woodbury, Joseph McHugh\n",
    "Purpose        : I reference the source code of this project to better understand how to format a project in Jupyter NoteBook.\n",
    "<pre>"
   ]
  },
  {
   "cell_type": "code",
   "execution_count": null,
   "metadata": {},
   "outputs": [],
   "source": []
  }
 ],
 "metadata": {
  "kernelspec": {
   "display_name": "Python 3",
   "language": "python",
   "name": "python3"
  },
  "language_info": {
   "codemirror_mode": {
    "name": "ipython",
    "version": 3
   },
   "file_extension": ".py",
   "mimetype": "text/x-python",
   "name": "python",
   "nbconvert_exporter": "python",
   "pygments_lexer": "ipython3",
   "version": "3.8.3"
  }
 },
 "nbformat": 4,
 "nbformat_minor": 4
}
